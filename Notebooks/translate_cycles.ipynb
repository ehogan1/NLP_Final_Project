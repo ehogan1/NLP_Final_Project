{
 "cells": [
  {
   "cell_type": "code",
   "execution_count": 11,
   "metadata": {},
   "outputs": [],
   "source": [
    "import os\n",
    "import pandas as pd\n",
    "from together import Together\n",
    "from tqdm import tqdm\n",
    "\n",
    "tqdm.pandas(desc=\"Translating texts\")\n",
    "os.environ[\"TOGETHER_API_KEY\"]= \"TOGETHER API KEY\"\n",
    "client = Together()\n",
    "model = \"meta-llama/Llama-3.3-70B-Instruct-Turbo\"\n",
    "\n",
    "data = pd.read_csv(r\"C:\\Users\\ehoga\\Desktop\\CMSC 25700\\Final_Project\\Data\\gpt-4_test.csv\", sep = \"|\")\n",
    "mg_data = data[data['label'] == 1]\n",
    "hg_data = data[data['label'] == 0]\n",
    "\n",
    "def SpanishTranslator(text):\n",
    "    response = client.chat.completions.create(\n",
    "        model=model,\n",
    "        messages=[{\"role\": \"system\", \"content\": \"You are a translator from English to Spanish, please translate the entire input, outputing only the translation and nothing else\"},\n",
    "            {\"role\": \"user\", \"content\": text}],\n",
    "        temperature=.5 # Balanced Temeperature\n",
    "    )\n",
    "    translation = response.choices[0].message.content\n",
    "    return translation\n",
    "\n",
    "def StE(text):\n",
    "    \"\"\"\n",
    "    Spanish to English\n",
    "    \"\"\"\n",
    "    response = client.chat.completions.create(\n",
    "        model=model,\n",
    "        messages=[{\"role\": \"system\", \"content\": \"You are a translator from Spanish to English, please translate the entire input, outputing only the translation and nothing else\"},\n",
    "            {\"role\": \"user\", \"content\": text}],\n",
    "        temperature=.5 # Balanced Temeperature\n",
    "    )\n",
    "    translation = response.choices[0].message.content\n",
    "    return translation\n",
    "\n",
    "def ChineseTranslator(text):\n",
    "    response = client.chat.completions.create(\n",
    "        model=model,\n",
    "        messages=[{\"role\": \"system\", \"content\": \"You are a translator from English to Chinese, please translate the entire input, outputing only the translation and nothing else\"},\n",
    "            {\"role\": \"user\", \"content\": text}],\n",
    "        temperature=.5 # Balanced Temeperature\n",
    "    )\n",
    "    translation = response.choices[0].message.content\n",
    "    return translation\n",
    "\n",
    "def CtE(text):\n",
    "    \"\"\"\n",
    "    Chinese to English\n",
    "    \"\"\"\n",
    "    response = client.chat.completions.create(\n",
    "        model=model,\n",
    "        messages=[{\"role\": \"system\", \"content\": \"You are a translator from Chinese to English, please translate the entire input, outputing only the translation and nothing else\"},\n",
    "            {\"role\": \"user\", \"content\": text}],\n",
    "        temperature=.5 # Balanced Temeperature\n",
    "    )\n",
    "    translation = response.choices[0].message.content\n",
    "    return translation\n",
    "\n",
    "def spanishTranslator(text):\n",
    "    response = client.chat.completions.create(\n",
    "        model=model,\n",
    "        messages=[{\"role\": \"system\", \"content\": \"You are a translator from English to spanish, please translate the entire input, outputing only the translation and nothing else\"},\n",
    "            {\"role\": \"user\", \"content\": text}],\n",
    "        temperature=.5 # Balanced Temeperature\n",
    "    )\n",
    "    translation = response.choices[0].message.content\n",
    "    return translation\n",
    "\n",
    "def RussianTranslator(text):\n",
    "    response = client.chat.completions.create(\n",
    "        model=model,\n",
    "        messages=[{\"role\": \"system\", \"content\": \"You are a translator from English to Russian, please translate the entire input, outputing only the translation and nothing else\"},\n",
    "            {\"role\": \"user\", \"content\": text}],\n",
    "        temperature=.5 # Balanced Temeperature\n",
    "    )\n",
    "    translation = response.choices[0].message.content\n",
    "    return translation\n",
    "\n",
    "def RtE(text):\n",
    "    \"\"\"\n",
    "    Russian to English\n",
    "    \"\"\"\n",
    "    response = client.chat.completions.create(\n",
    "        model=model,\n",
    "        messages=[{\"role\": \"system\", \"content\": \"You are a translator from Russian to English, please translate the entire input, outputing only the translation and nothing else\"},\n",
    "            {\"role\": \"user\", \"content\": text}],\n",
    "        temperature=.5 # Balanced Temeperature\n",
    "    )\n",
    "    translation = response.choices[0].message.content\n",
    "    return translation\n",
    "\n",
    "def Cycle_Translation(text, language = \"Spanish\", n = 1):\n",
    "    text = text['sequence']\n",
    "    translation = text\n",
    "    if language == 'Spanish':\n",
    "        for _ in range(n):\n",
    "            text = text.progress_apply(SpanishTranslator)\n",
    "            text = text.progress_apply(StE)\n",
    "        translation = text\n",
    "    elif language == \"Chinese\":\n",
    "        for _ in range(n):\n",
    "            text = text.progress_apply(ChineseTranslator)\n",
    "            text = text.progress_apply(CtE)\n",
    "        translation = text\n",
    "    elif language == \"Russian\":\n",
    "        for _ in range(n):\n",
    "            text = text.progress_apply(RussianTranslator)\n",
    "            text = text.progress_apply(RtE)\n",
    "        translation = text\n",
    "    else:\n",
    "        print(\"Translation Language Not Supported\")\n",
    "        return\n",
    "    return translation"
   ]
  },
  {
   "cell_type": "code",
   "execution_count": 4,
   "metadata": {},
   "outputs": [
    {
     "name": "stderr",
     "output_type": "stream",
     "text": [
      "Translating texts: 100%|██████████| 5/5 [00:09<00:00,  1.91s/it]\n"
     ]
    },
    {
     "name": "stdout",
     "output_type": "stream",
     "text": [
      "1    Un hombre ha sido encarcelado por mantener per...\n",
      "3    Es costumbre dejar una propina cuando se come ...\n",
      "4    Hace menos de dos años, me encontraba sentado ...\n",
      "5    17 de noviembre de 2015, 12:55 a.m. Michael Ho...\n",
      "6    Una nueva encuesta revela que más estadouniden...\n",
      "Name: sequence, dtype: object 1    A man has been imprisoned for keeping dogs to ...\n",
      "3    It's customary to leave a tip when dining out,...\n",
      "4    Less than two years ago, I found myself seated...\n",
      "5    November 17, 2015, 12:55 a.m. Michael Hoeppner...\n",
      "6    A new survey reveals that more Americans would...\n",
      "Name: sequence, dtype: object\n"
     ]
    },
    {
     "name": "stderr",
     "output_type": "stream",
     "text": [
      "Translating texts: 100%|██████████| 500/500 [16:07<00:00,  1.94s/it]\n",
      "Translating texts: 100%|██████████| 500/500 [12:59<00:00,  1.56s/it]\n"
     ]
    },
    {
     "ename": "OSError",
     "evalue": "Cannot save file into a non-existent directory: 'Data'",
     "output_type": "error",
     "traceback": [
      "\u001b[1;31m---------------------------------------------------------------------------\u001b[0m",
      "\u001b[1;31mOSError\u001b[0m                                   Traceback (most recent call last)",
      "Cell \u001b[1;32mIn[4], line 9\u001b[0m\n\u001b[0;32m      7\u001b[0m translation \u001b[38;5;241m=\u001b[39m Cycle_Translation(spanish_test, \u001b[38;5;124m\"\u001b[39m\u001b[38;5;124mSpanish\u001b[39m\u001b[38;5;124m\"\u001b[39m, \u001b[38;5;241m1\u001b[39m)\n\u001b[0;32m      8\u001b[0m output_file \u001b[38;5;241m=\u001b[39m \u001b[38;5;124m\"\u001b[39m\u001b[38;5;124mData/spanish_mg_1.csv\u001b[39m\u001b[38;5;124m\"\u001b[39m\n\u001b[1;32m----> 9\u001b[0m translation\u001b[38;5;241m.\u001b[39mto_csv(output_file, index\u001b[38;5;241m=\u001b[39m\u001b[38;5;28;01mFalse\u001b[39;00m)\n\u001b[0;32m     11\u001b[0m \u001b[38;5;66;03m# Second Spanish Cycle\u001b[39;00m\n\u001b[0;32m     12\u001b[0m spanish_test \u001b[38;5;241m=\u001b[39m pd\u001b[38;5;241m.\u001b[39mread_csv(\u001b[38;5;124mr\u001b[39m\u001b[38;5;124m\"\u001b[39m\u001b[38;5;124mC:\u001b[39m\u001b[38;5;124m\\\u001b[39m\u001b[38;5;124mUsers\u001b[39m\u001b[38;5;124m\\\u001b[39m\u001b[38;5;124mehoga\u001b[39m\u001b[38;5;124m\\\u001b[39m\u001b[38;5;124mDesktop\u001b[39m\u001b[38;5;124m\\\u001b[39m\u001b[38;5;124mCMSC 25700\u001b[39m\u001b[38;5;124m\\\u001b[39m\u001b[38;5;124mFinal_Project\u001b[39m\u001b[38;5;124m\\\u001b[39m\u001b[38;5;124mData\u001b[39m\u001b[38;5;124m\\\u001b[39m\u001b[38;5;124mspanish_mg_1.csv\u001b[39m\u001b[38;5;124m\"\u001b[39m)\n",
      "File \u001b[1;32mc:\\Users\\ehoga\\anaconda3\\Lib\\site-packages\\pandas\\util\\_decorators.py:333\u001b[0m, in \u001b[0;36mdeprecate_nonkeyword_arguments.<locals>.decorate.<locals>.wrapper\u001b[1;34m(*args, **kwargs)\u001b[0m\n\u001b[0;32m    327\u001b[0m \u001b[38;5;28;01mif\u001b[39;00m \u001b[38;5;28mlen\u001b[39m(args) \u001b[38;5;241m>\u001b[39m num_allow_args:\n\u001b[0;32m    328\u001b[0m     warnings\u001b[38;5;241m.\u001b[39mwarn(\n\u001b[0;32m    329\u001b[0m         msg\u001b[38;5;241m.\u001b[39mformat(arguments\u001b[38;5;241m=\u001b[39m_format_argument_list(allow_args)),\n\u001b[0;32m    330\u001b[0m         \u001b[38;5;167;01mFutureWarning\u001b[39;00m,\n\u001b[0;32m    331\u001b[0m         stacklevel\u001b[38;5;241m=\u001b[39mfind_stack_level(),\n\u001b[0;32m    332\u001b[0m     )\n\u001b[1;32m--> 333\u001b[0m \u001b[38;5;28;01mreturn\u001b[39;00m func(\u001b[38;5;241m*\u001b[39margs, \u001b[38;5;241m*\u001b[39m\u001b[38;5;241m*\u001b[39mkwargs)\n",
      "File \u001b[1;32mc:\\Users\\ehoga\\anaconda3\\Lib\\site-packages\\pandas\\core\\generic.py:3967\u001b[0m, in \u001b[0;36mNDFrame.to_csv\u001b[1;34m(self, path_or_buf, sep, na_rep, float_format, columns, header, index, index_label, mode, encoding, compression, quoting, quotechar, lineterminator, chunksize, date_format, doublequote, escapechar, decimal, errors, storage_options)\u001b[0m\n\u001b[0;32m   3956\u001b[0m df \u001b[38;5;241m=\u001b[39m \u001b[38;5;28mself\u001b[39m \u001b[38;5;28;01mif\u001b[39;00m \u001b[38;5;28misinstance\u001b[39m(\u001b[38;5;28mself\u001b[39m, ABCDataFrame) \u001b[38;5;28;01melse\u001b[39;00m \u001b[38;5;28mself\u001b[39m\u001b[38;5;241m.\u001b[39mto_frame()\n\u001b[0;32m   3958\u001b[0m formatter \u001b[38;5;241m=\u001b[39m DataFrameFormatter(\n\u001b[0;32m   3959\u001b[0m     frame\u001b[38;5;241m=\u001b[39mdf,\n\u001b[0;32m   3960\u001b[0m     header\u001b[38;5;241m=\u001b[39mheader,\n\u001b[1;32m   (...)\u001b[0m\n\u001b[0;32m   3964\u001b[0m     decimal\u001b[38;5;241m=\u001b[39mdecimal,\n\u001b[0;32m   3965\u001b[0m )\n\u001b[1;32m-> 3967\u001b[0m \u001b[38;5;28;01mreturn\u001b[39;00m DataFrameRenderer(formatter)\u001b[38;5;241m.\u001b[39mto_csv(\n\u001b[0;32m   3968\u001b[0m     path_or_buf,\n\u001b[0;32m   3969\u001b[0m     lineterminator\u001b[38;5;241m=\u001b[39mlineterminator,\n\u001b[0;32m   3970\u001b[0m     sep\u001b[38;5;241m=\u001b[39msep,\n\u001b[0;32m   3971\u001b[0m     encoding\u001b[38;5;241m=\u001b[39mencoding,\n\u001b[0;32m   3972\u001b[0m     errors\u001b[38;5;241m=\u001b[39merrors,\n\u001b[0;32m   3973\u001b[0m     compression\u001b[38;5;241m=\u001b[39mcompression,\n\u001b[0;32m   3974\u001b[0m     quoting\u001b[38;5;241m=\u001b[39mquoting,\n\u001b[0;32m   3975\u001b[0m     columns\u001b[38;5;241m=\u001b[39mcolumns,\n\u001b[0;32m   3976\u001b[0m     index_label\u001b[38;5;241m=\u001b[39mindex_label,\n\u001b[0;32m   3977\u001b[0m     mode\u001b[38;5;241m=\u001b[39mmode,\n\u001b[0;32m   3978\u001b[0m     chunksize\u001b[38;5;241m=\u001b[39mchunksize,\n\u001b[0;32m   3979\u001b[0m     quotechar\u001b[38;5;241m=\u001b[39mquotechar,\n\u001b[0;32m   3980\u001b[0m     date_format\u001b[38;5;241m=\u001b[39mdate_format,\n\u001b[0;32m   3981\u001b[0m     doublequote\u001b[38;5;241m=\u001b[39mdoublequote,\n\u001b[0;32m   3982\u001b[0m     escapechar\u001b[38;5;241m=\u001b[39mescapechar,\n\u001b[0;32m   3983\u001b[0m     storage_options\u001b[38;5;241m=\u001b[39mstorage_options,\n\u001b[0;32m   3984\u001b[0m )\n",
      "File \u001b[1;32mc:\\Users\\ehoga\\anaconda3\\Lib\\site-packages\\pandas\\io\\formats\\format.py:1014\u001b[0m, in \u001b[0;36mDataFrameRenderer.to_csv\u001b[1;34m(self, path_or_buf, encoding, sep, columns, index_label, mode, compression, quoting, quotechar, lineterminator, chunksize, date_format, doublequote, escapechar, errors, storage_options)\u001b[0m\n\u001b[0;32m    993\u001b[0m     created_buffer \u001b[38;5;241m=\u001b[39m \u001b[38;5;28;01mFalse\u001b[39;00m\n\u001b[0;32m    995\u001b[0m csv_formatter \u001b[38;5;241m=\u001b[39m CSVFormatter(\n\u001b[0;32m    996\u001b[0m     path_or_buf\u001b[38;5;241m=\u001b[39mpath_or_buf,\n\u001b[0;32m    997\u001b[0m     lineterminator\u001b[38;5;241m=\u001b[39mlineterminator,\n\u001b[1;32m   (...)\u001b[0m\n\u001b[0;32m   1012\u001b[0m     formatter\u001b[38;5;241m=\u001b[39m\u001b[38;5;28mself\u001b[39m\u001b[38;5;241m.\u001b[39mfmt,\n\u001b[0;32m   1013\u001b[0m )\n\u001b[1;32m-> 1014\u001b[0m csv_formatter\u001b[38;5;241m.\u001b[39msave()\n\u001b[0;32m   1016\u001b[0m \u001b[38;5;28;01mif\u001b[39;00m created_buffer:\n\u001b[0;32m   1017\u001b[0m     \u001b[38;5;28;01massert\u001b[39;00m \u001b[38;5;28misinstance\u001b[39m(path_or_buf, StringIO)\n",
      "File \u001b[1;32mc:\\Users\\ehoga\\anaconda3\\Lib\\site-packages\\pandas\\io\\formats\\csvs.py:251\u001b[0m, in \u001b[0;36mCSVFormatter.save\u001b[1;34m(self)\u001b[0m\n\u001b[0;32m    247\u001b[0m \u001b[38;5;250m\u001b[39m\u001b[38;5;124;03m\"\"\"\u001b[39;00m\n\u001b[0;32m    248\u001b[0m \u001b[38;5;124;03mCreate the writer & save.\u001b[39;00m\n\u001b[0;32m    249\u001b[0m \u001b[38;5;124;03m\"\"\"\u001b[39;00m\n\u001b[0;32m    250\u001b[0m \u001b[38;5;66;03m# apply compression and byte/text conversion\u001b[39;00m\n\u001b[1;32m--> 251\u001b[0m \u001b[38;5;28;01mwith\u001b[39;00m get_handle(\n\u001b[0;32m    252\u001b[0m     \u001b[38;5;28mself\u001b[39m\u001b[38;5;241m.\u001b[39mfilepath_or_buffer,\n\u001b[0;32m    253\u001b[0m     \u001b[38;5;28mself\u001b[39m\u001b[38;5;241m.\u001b[39mmode,\n\u001b[0;32m    254\u001b[0m     encoding\u001b[38;5;241m=\u001b[39m\u001b[38;5;28mself\u001b[39m\u001b[38;5;241m.\u001b[39mencoding,\n\u001b[0;32m    255\u001b[0m     errors\u001b[38;5;241m=\u001b[39m\u001b[38;5;28mself\u001b[39m\u001b[38;5;241m.\u001b[39merrors,\n\u001b[0;32m    256\u001b[0m     compression\u001b[38;5;241m=\u001b[39m\u001b[38;5;28mself\u001b[39m\u001b[38;5;241m.\u001b[39mcompression,\n\u001b[0;32m    257\u001b[0m     storage_options\u001b[38;5;241m=\u001b[39m\u001b[38;5;28mself\u001b[39m\u001b[38;5;241m.\u001b[39mstorage_options,\n\u001b[0;32m    258\u001b[0m ) \u001b[38;5;28;01mas\u001b[39;00m handles:\n\u001b[0;32m    259\u001b[0m     \u001b[38;5;66;03m# Note: self.encoding is irrelevant here\u001b[39;00m\n\u001b[0;32m    260\u001b[0m     \u001b[38;5;28mself\u001b[39m\u001b[38;5;241m.\u001b[39mwriter \u001b[38;5;241m=\u001b[39m csvlib\u001b[38;5;241m.\u001b[39mwriter(\n\u001b[0;32m    261\u001b[0m         handles\u001b[38;5;241m.\u001b[39mhandle,\n\u001b[0;32m    262\u001b[0m         lineterminator\u001b[38;5;241m=\u001b[39m\u001b[38;5;28mself\u001b[39m\u001b[38;5;241m.\u001b[39mlineterminator,\n\u001b[1;32m   (...)\u001b[0m\n\u001b[0;32m    267\u001b[0m         quotechar\u001b[38;5;241m=\u001b[39m\u001b[38;5;28mself\u001b[39m\u001b[38;5;241m.\u001b[39mquotechar,\n\u001b[0;32m    268\u001b[0m     )\n\u001b[0;32m    270\u001b[0m     \u001b[38;5;28mself\u001b[39m\u001b[38;5;241m.\u001b[39m_save()\n",
      "File \u001b[1;32mc:\\Users\\ehoga\\anaconda3\\Lib\\site-packages\\pandas\\io\\common.py:749\u001b[0m, in \u001b[0;36mget_handle\u001b[1;34m(path_or_buf, mode, encoding, compression, memory_map, is_text, errors, storage_options)\u001b[0m\n\u001b[0;32m    747\u001b[0m \u001b[38;5;66;03m# Only for write methods\u001b[39;00m\n\u001b[0;32m    748\u001b[0m \u001b[38;5;28;01mif\u001b[39;00m \u001b[38;5;124m\"\u001b[39m\u001b[38;5;124mr\u001b[39m\u001b[38;5;124m\"\u001b[39m \u001b[38;5;129;01mnot\u001b[39;00m \u001b[38;5;129;01min\u001b[39;00m mode \u001b[38;5;129;01mand\u001b[39;00m is_path:\n\u001b[1;32m--> 749\u001b[0m     check_parent_directory(\u001b[38;5;28mstr\u001b[39m(handle))\n\u001b[0;32m    751\u001b[0m \u001b[38;5;28;01mif\u001b[39;00m compression:\n\u001b[0;32m    752\u001b[0m     \u001b[38;5;28;01mif\u001b[39;00m compression \u001b[38;5;241m!=\u001b[39m \u001b[38;5;124m\"\u001b[39m\u001b[38;5;124mzstd\u001b[39m\u001b[38;5;124m\"\u001b[39m:\n\u001b[0;32m    753\u001b[0m         \u001b[38;5;66;03m# compression libraries do not like an explicit text-mode\u001b[39;00m\n",
      "File \u001b[1;32mc:\\Users\\ehoga\\anaconda3\\Lib\\site-packages\\pandas\\io\\common.py:616\u001b[0m, in \u001b[0;36mcheck_parent_directory\u001b[1;34m(path)\u001b[0m\n\u001b[0;32m    614\u001b[0m parent \u001b[38;5;241m=\u001b[39m Path(path)\u001b[38;5;241m.\u001b[39mparent\n\u001b[0;32m    615\u001b[0m \u001b[38;5;28;01mif\u001b[39;00m \u001b[38;5;129;01mnot\u001b[39;00m parent\u001b[38;5;241m.\u001b[39mis_dir():\n\u001b[1;32m--> 616\u001b[0m     \u001b[38;5;28;01mraise\u001b[39;00m \u001b[38;5;167;01mOSError\u001b[39;00m(\u001b[38;5;124mrf\u001b[39m\u001b[38;5;124m\"\u001b[39m\u001b[38;5;124mCannot save file into a non-existent directory: \u001b[39m\u001b[38;5;124m'\u001b[39m\u001b[38;5;132;01m{\u001b[39;00mparent\u001b[38;5;132;01m}\u001b[39;00m\u001b[38;5;124m'\u001b[39m\u001b[38;5;124m\"\u001b[39m)\n",
      "\u001b[1;31mOSError\u001b[0m: Cannot save file into a non-existent directory: 'Data'"
     ]
    }
   ],
   "source": [
    "spanish_test = hg_data[:5]\n",
    "spanish = spanish_test['sequence'].progress_apply(SpanishTranslator)\n",
    "translation = spanish.apply(StE)\n",
    "print(spanish, translation)\n",
    "\n",
    "spanish_test = hg_data\n",
    "translation = Cycle_Translation(spanish_test, \"Spanish\", 1)"
   ]
  },
  {
   "cell_type": "code",
   "execution_count": 9,
   "metadata": {},
   "outputs": [
    {
     "name": "stderr",
     "output_type": "stream",
     "text": [
      "Translating texts: 100%|██████████| 500/500 [15:18<00:00,  1.84s/it]\n",
      "Translating texts: 100%|██████████| 500/500 [13:00<00:00,  1.56s/it]\n",
      "Translating texts: 100%|██████████| 500/500 [14:48<00:00,  1.78s/it]\n",
      "Translating texts: 100%|██████████| 500/500 [10:23<00:00,  1.25s/it]\n",
      "Translating texts: 100%|██████████| 500/500 [14:52<00:00,  1.78s/it]\n",
      "Translating texts: 100%|██████████| 500/500 [13:23<00:00,  1.61s/it]\n",
      "Translating texts: 100%|██████████| 500/500 [11:44<00:00,  1.41s/it]\n",
      "Translating texts: 100%|██████████| 500/500 [09:38<00:00,  1.16s/it]\n"
     ]
    }
   ],
   "source": [
    "output_file = r\"C:\\Users\\ehoga\\Desktop\\CMSC 25700\\Final_Project\\Data\\spanish_mg_1.csv\"\n",
    "translation.to_csv(output_file, index=False)\n",
    "\n",
    "# Second Spanish Cycle\n",
    "spanish_test = pd.read_csv(r\"C:\\Users\\ehoga\\Desktop\\CMSC 25700\\Final_Project\\Data\\spanish_mg_1.csv\")\n",
    "translation = Cycle_Translation(spanish_test, \"Spanish\", 1)\n",
    "output_file = r\"C:\\Users\\ehoga\\Desktop\\CMSC 25700\\Final_Project\\Data\\spanish_mg_2.csv\"\n",
    "translation.to_csv(output_file, index=False)\n",
    "\n",
    "# Third Spanish Cycle\n",
    "spanish_test = pd.read_csv(r\"C:\\Users\\ehoga\\Desktop\\CMSC 25700\\Final_Project\\Data\\spanish_mg_2.csv\")\n",
    "translation = Cycle_Translation(spanish_test, \"Spanish\", 1)\n",
    "output_file = r\"C:\\Users\\ehoga\\Desktop\\CMSC 25700\\Final_Project\\Data\\spanish_mg_3.csv\"\n",
    "translation.to_csv(output_file, index=False)\n",
    "\n",
    "# Fourth Spanish Cycle\n",
    "spanish_test = pd.read_csv(r\"C:\\Users\\ehoga\\Desktop\\CMSC 25700\\Final_Project\\Data\\spanish_mg_3.csv\")\n",
    "translation = Cycle_Translation(spanish_test, \"Spanish\", 1)\n",
    "output_file = r\"C:\\Users\\ehoga\\Desktop\\CMSC 25700\\Final_Project\\Data\\spanish_mg_4.csv\"\n",
    "translation.to_csv(output_file, index=False)\n",
    "\n",
    "# Fifth Spanish Cycle\n",
    "spanish_test = pd.read_csv(r\"C:\\Users\\ehoga\\Desktop\\CMSC 25700\\Final_Project\\Data\\spanish_mg_4.csv\")\n",
    "translation = Cycle_Translation(spanish_test, \"Spanish\", 1)\n",
    "output_file = r\"C:\\Users\\ehoga\\Desktop\\CMSC 25700\\Final_Project\\Data\\spanish_mg_5.csv\"\n",
    "translation.to_csv(output_file, index=False)"
   ]
  },
  {
   "cell_type": "code",
   "execution_count": 10,
   "metadata": {},
   "outputs": [
    {
     "name": "stderr",
     "output_type": "stream",
     "text": [
      "Translating texts: 100%|██████████| 5/5 [00:08<00:00,  1.63s/it]\n"
     ]
    },
    {
     "name": "stdout",
     "output_type": "stream",
     "text": [
      "1    一名男子因在艾尔郡的家中饲养斗狗而被判入狱。 50岁的托尼·芭芭拉（Tony Barbara...\n",
      "3    外出就餐时，给小费是习惯，但有一笔特别的加单小费让餐厅工作人员感到难以置信。一位常客，人称史...\n",
      "4    不到两年前，我坐在南大西洋联盟棒球比赛（低级别联赛）的座位上，享受着年轻球员们为在大联盟中留...\n",
      "5    2015年11月17日凌晨12:55，迈克尔·赫普纳不得不放弃他在曼哈顿养成的街头举止。我们...\n",
      "6    一项新调查显示，更多的美国人会选择互联网作为他们唯一的新闻来源，而不是电视、广播或印刷报纸。...\n",
      "Name: sequence, dtype: object 1    A man has been jailed for keeping fighting dog...\n",
      "3    When dining out, it's customary to leave a tip...\n",
      "4    Less than two years ago, I sat in the stands a...\n",
      "5    On November 17, 2015, at 12:55 in the morning,...\n",
      "6    A recent survey shows that more Americans woul...\n",
      "Name: sequence, dtype: object\n"
     ]
    },
    {
     "name": "stderr",
     "output_type": "stream",
     "text": [
      "Translating texts: 100%|██████████| 500/500 [18:09<00:00,  2.18s/it]\n",
      "Translating texts: 100%|██████████| 500/500 [12:48<00:00,  1.54s/it]\n",
      "Translating texts: 100%|██████████| 500/500 [16:23<00:00,  1.97s/it]\n",
      "Translating texts: 100%|██████████| 500/500 [14:19<00:00,  1.72s/it]\n",
      "Translating texts: 100%|██████████| 500/500 [18:45<00:00,  2.25s/it]\n",
      "Translating texts: 100%|██████████| 500/500 [13:39<00:00,  1.64s/it]\n",
      "Translating texts: 100%|██████████| 500/500 [17:16<00:00,  2.07s/it]\n",
      "Translating texts: 100%|██████████| 500/500 [13:17<00:00,  1.60s/it]\n",
      "Translating texts: 100%|██████████| 500/500 [16:01<00:00,  1.92s/it]\n",
      "Translating texts: 100%|██████████| 500/500 [12:12<00:00,  1.47s/it]\n"
     ]
    }
   ],
   "source": [
    "chinese_test = hg_data[:5]\n",
    "chinese = chinese_test['sequence'].progress_apply(ChineseTranslator)\n",
    "translation = chinese.apply(CtE)\n",
    "print(chinese, translation)\n",
    "\n",
    "chinese_test = hg_data\n",
    "translation = Cycle_Translation(chinese_test, \"Chinese\", 1)\n",
    "output_file = r\"C:\\Users\\ehoga\\Desktop\\CMSC 25700\\Final_Project\\Data\\chinese_mg_1.csv\"\n",
    "translation.to_csv(output_file, index=False)\n",
    "\n",
    "# Second Chinese Cycle\n",
    "chinese_test = pd.read_csv(r\"C:\\Users\\ehoga\\Desktop\\CMSC 25700\\Final_Project\\Data\\chinese_mg_1.csv\")\n",
    "translation = Cycle_Translation(chinese_test, \"Chinese\", 1)\n",
    "output_file = r\"C:\\Users\\ehoga\\Desktop\\CMSC 25700\\Final_Project\\Data\\chinese_mg_2.csv\"\n",
    "translation.to_csv(output_file, index=False)\n",
    "\n",
    "# Third Chinese Cycle\n",
    "chinese_test = pd.read_csv(r\"C:\\Users\\ehoga\\Desktop\\CMSC 25700\\Final_Project\\Data\\chinese_mg_2.csv\")\n",
    "translation = Cycle_Translation(chinese_test, \"Chinese\", 1)\n",
    "output_file = r\"C:\\Users\\ehoga\\Desktop\\CMSC 25700\\Final_Project\\Data\\chinese_mg_3.csv\"\n",
    "translation.to_csv(output_file, index=False)\n",
    "\n",
    "# Fourth Chinese Cycle\n",
    "chinese_test = pd.read_csv(r\"C:\\Users\\ehoga\\Desktop\\CMSC 25700\\Final_Project\\Data\\chinese_mg_3.csv\")\n",
    "translation = Cycle_Translation(chinese_test, \"Chinese\", 1)\n",
    "output_file = r\"C:\\Users\\ehoga\\Desktop\\CMSC 25700\\Final_Project\\Data\\chinese_mg_4.csv\"\n",
    "translation.to_csv(output_file, index=False)\n",
    "\n",
    "# Fifth Chinese Cycle\n",
    "chinese_test = pd.read_csv(r\"C:\\Users\\ehoga\\Desktop\\CMSC 25700\\Final_Project\\Data\\chinese_mg_4.csv\")\n",
    "translation = Cycle_Translation(chinese_test, \"Chinese\", 1)\n",
    "output_file = r\"C:\\Users\\ehoga\\Desktop\\CMSC 25700\\Final_Project\\Data\\chinese_mg_5.csv\"\n",
    "translation.to_csv(output_file, index=False)"
   ]
  },
  {
   "cell_type": "code",
   "execution_count": 12,
   "metadata": {},
   "outputs": [
    {
     "name": "stderr",
     "output_type": "stream",
     "text": [
      "Translating texts: 100%|██████████| 5/5 [00:11<00:00,  2.36s/it]\n"
     ]
    },
    {
     "name": "stdout",
     "output_type": "stream",
     "text": [
      "1    Мужчина был заключен в тюрьму за содержание со...\n",
      "3    При приеме пищи в ресторане принято оставлять ...\n",
      "4    Менее двух лет назад я сидел на игре бейсбольн...\n",
      "5    17 ноября 2015 года 12:55 ночи. Майклу Хёппнер...\n",
      "6    Новый опрос показывает, что больше американцев...\n",
      "Name: sequence, dtype: object 1    A man has been jailed for keeping dogs to figh...\n",
      "3    When dining at a restaurant, it's customary to...\n",
      "4    Less than two years ago, I was sitting at a So...\n",
      "5    November 17, 2015, 12:55 AM. Michael Höppner h...\n",
      "6    A new survey shows that more Americans would p...\n",
      "Name: sequence, dtype: object\n"
     ]
    },
    {
     "name": "stderr",
     "output_type": "stream",
     "text": [
      "Translating texts: 100%|██████████| 500/500 [22:22<00:00,  2.68s/it]\n",
      "Translating texts: 100%|██████████| 500/500 [12:33<00:00,  1.51s/it]\n",
      "Translating texts: 100%|██████████| 500/500 [15:14<00:00,  1.83s/it]\n",
      "Translating texts: 100%|██████████| 500/500 [09:55<00:00,  1.19s/it]\n",
      "Translating texts: 100%|██████████| 500/500 [16:45<00:00,  2.01s/it]\n",
      "Translating texts: 100%|██████████| 500/500 [11:34<00:00,  1.39s/it]\n",
      "Translating texts: 100%|██████████| 500/500 [17:33<00:00,  2.11s/it]\n",
      "Translating texts: 100%|██████████| 500/500 [13:56<00:00,  1.67s/it]\n",
      "Translating texts: 100%|██████████| 500/500 [16:42<00:00,  2.00s/it]\n",
      "Translating texts: 100%|██████████| 500/500 [13:26<00:00,  1.61s/it]\n"
     ]
    }
   ],
   "source": [
    "russian_test = hg_data[:5]\n",
    "russian = russian_test['sequence'].progress_apply(RussianTranslator)\n",
    "translation = russian.apply(RtE)\n",
    "print(russian, translation)\n",
    "\n",
    "russian_test = hg_data\n",
    "translation = Cycle_Translation(russian_test, \"Russian\", 1)\n",
    "output_file = r\"C:\\Users\\ehoga\\Desktop\\CMSC 25700\\Final_Project\\Data\\russian_mg_1.csv\"\n",
    "translation.to_csv(output_file, index=False)\n",
    "\n",
    "# Second Russian Cycle\n",
    "russian_test = pd.read_csv(r\"C:\\Users\\ehoga\\Desktop\\CMSC 25700\\Final_Project\\Data\\russian_mg_1.csv\")\n",
    "translation = Cycle_Translation(russian_test, \"Russian\", 1)\n",
    "output_file = r\"C:\\Users\\ehoga\\Desktop\\CMSC 25700\\Final_Project\\Data\\russian_mg_2.csv\"\n",
    "translation.to_csv(output_file, index=False)\n",
    "\n",
    "# Third Russian Cycle\n",
    "russian_test = pd.read_csv(r\"C:\\Users\\ehoga\\Desktop\\CMSC 25700\\Final_Project\\Data\\russian_mg_2.csv\")\n",
    "translation = Cycle_Translation(russian_test, \"Russian\", 1)\n",
    "output_file = r\"C:\\Users\\ehoga\\Desktop\\CMSC 25700\\Final_Project\\Data\\russian_mg_3.csv\"\n",
    "translation.to_csv(output_file, index=False)\n",
    "\n",
    "# Fourth Russian Cycle\n",
    "russian_test = pd.read_csv(r\"C:\\Users\\ehoga\\Desktop\\CMSC 25700\\Final_Project\\Data\\russian_mg_3.csv\")\n",
    "translation = Cycle_Translation(russian_test, \"Russian\", 1)\n",
    "output_file = r\"C:\\Users\\ehoga\\Desktop\\CMSC 25700\\Final_Project\\Data\\russian_mg_4.csv\"\n",
    "translation.to_csv(output_file, index=False)\n",
    "\n",
    "# Fifth Russian Cycle\n",
    "russian_test = pd.read_csv(r\"C:\\Users\\ehoga\\Desktop\\CMSC 25700\\Final_Project\\Data\\russian_mg_4.csv\")\n",
    "translation = Cycle_Translation(russian_test, \"Russian\", 1)\n",
    "output_file = r\"C:\\Users\\ehoga\\Desktop\\CMSC 25700\\Final_Project\\Data\\russian_mg_5.csv\"\n",
    "translation.to_csv(output_file, index=False)"
   ]
  }
 ],
 "metadata": {
  "kernelspec": {
   "display_name": "base",
   "language": "python",
   "name": "python3"
  },
  "language_info": {
   "codemirror_mode": {
    "name": "ipython",
    "version": 3
   },
   "file_extension": ".py",
   "mimetype": "text/x-python",
   "name": "python",
   "nbconvert_exporter": "python",
   "pygments_lexer": "ipython3",
   "version": "3.12.7"
  }
 },
 "nbformat": 4,
 "nbformat_minor": 2
}
