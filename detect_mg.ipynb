{
 "cells": [
  {
   "cell_type": "code",
   "execution_count": null,
   "metadata": {},
   "outputs": [],
   "source": [
    "import requests\n",
    "import pandas as pd\n",
    "from tqdm import tqdm\n",
    "\n",
    "API_URL = \"https://api.sapling.ai/api/v1/aidetect\"\n",
    "API_KEY = \"SAPLING_KEY\"\n",
    "\n",
    "data = pd.read_csv(r\"C:\\Users\\ehoga\\Desktop\\CMSC 25700\\Final_Project\\Data\\hg_test.csv\")\n",
    "\n",
    "def detect(data, outfile):\n",
    "    responses = []\n",
    "\n",
    "    for index, row in tqdm(data.iterrows(), total=len(data), desc=\"Processing texts\"):\n",
    "        text = row['sequence']\n",
    "        payload = {\n",
    "            \"key\": API_KEY,\n",
    "            \"text\": text\n",
    "        }\n",
    "        \n",
    "        response = requests.post(API_URL, json=payload)\n",
    "        \n",
    "        if response.status_code == 200:\n",
    "            api_response = response.json()\n",
    "            api_response.pop(\"tokens\", None)\n",
    "            api_response.pop(\"token_probs\", None)\n",
    "        else:\n",
    "            api_response = {\"error\": response.text, \"status_code\": response.status_code}\n",
    "\n",
    "        responses.append(api_response)\n",
    "\n",
    "    responses = pd.DataFrame(responses)\n",
    "    responses.to_csv(outfile, index=False)\n",
    "\n",
    "    print(\"DONE\")"
   ]
  },
  {
   "cell_type": "code",
   "execution_count": null,
   "metadata": {},
   "outputs": [],
   "source": [
    "data = pd.read_csv(r\"C:\\Users\\ehoga\\Desktop\\CMSC 25700\\Final_Project\\Data\\hg_test.csv\")\n",
    "outfile = \"hg_detection.csv\"\n",
    "detect(data, outfile)"
   ]
  }
 ],
 "metadata": {
  "kernelspec": {
   "display_name": "base",
   "language": "python",
   "name": "python3"
  },
  "language_info": {
   "codemirror_mode": {
    "name": "ipython",
    "version": 3
   },
   "file_extension": ".py",
   "mimetype": "text/x-python",
   "name": "python",
   "nbconvert_exporter": "python",
   "pygments_lexer": "ipython3",
   "version": "3.12.7"
  }
 },
 "nbformat": 4,
 "nbformat_minor": 2
}
